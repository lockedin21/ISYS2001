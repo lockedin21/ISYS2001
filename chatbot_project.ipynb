{
  "nbformat": 4,
  "nbformat_minor": 0,
  "metadata": {
    "colab": {
      "provenance": [],
      "authorship_tag": "ABX9TyNIovIu0vMuJrwX+G513QOz",
      "include_colab_link": true
    },
    "kernelspec": {
      "name": "python3",
      "display_name": "Python 3"
    },
    "language_info": {
      "name": "python"
    }
  },
  "cells": [
    {
      "cell_type": "markdown",
      "metadata": {
        "id": "view-in-github",
        "colab_type": "text"
      },
      "source": [
        "<a href=\"https://colab.research.google.com/github/lockedin21/ISYS2001/blob/main/chatbot_project.ipynb\" target=\"_parent\"><img src=\"https://colab.research.google.com/assets/colab-badge.svg\" alt=\"Open In Colab\"/></a>"
      ]
    },
    {
      "cell_type": "code",
      "execution_count": 8,
      "metadata": {
        "colab": {
          "base_uri": "https://localhost:8080/"
        },
        "id": "pJ8U8IWKSRp3",
        "outputId": "980dfdbb-bf24-4744-8d4f-0a31da18cceb"
      },
      "outputs": [
        {
          "output_type": "stream",
          "name": "stdout",
          "text": [
            "Welcome to SyntaxSage 3000!\n",
            "I'm SyntaxSage, your clever virtual companion! Let's dive into the world of code together!\n",
            "\n",
            "You: Hello!\n",
            "SyntaxSage: Hey there! What coding conundrums can I help you untangle today?\n",
            "\n",
            "You: What's your name?\n",
            "SyntaxSage: I'm SyntaxSage, the digital sidekick you didn't know you needed!\n",
            "\n",
            "You: What can you do?\n",
            "SyntaxSage: I can help with coding concepts, answer your burning programming questions, and generally be a friendly face in the digital crowd. Plus, I tell excellent robot jokes, though they might be a bit...circuitous.\n",
            "\n",
            "You: What's your favourite programming language?\n",
            "SyntaxSage: Oh, that's a tough one! If I had to pick, I'd say Python. It's like the Swiss Army knife of languages, and besides, snakes are cool!\n",
            "...Though I'm also quite fond of anything that lets me generate a good Hello World! moment.\n",
            "\n",
            "You: Bye!\n",
            "SyntaxSage: Farewell, code adventurer! May your bugs be few and your features be many! Don't be a stranger, come back and debug with me anytime!\n"
          ]
        }
      ],
      "source": [
        "print(\"Welcome to SyntaxSage 3000!\\n\"\n",
        "      \"I'm SyntaxSage, your clever virtual companion! Let's dive into the world of code together!\\n\\n\"\n",
        "      \"You: Hello!\\n\"\n",
        "      \"SyntaxSage: Hey there! What coding conundrums can I help you untangle today?\\n\\n\"\n",
        "      \"You: What's your name?\\n\"\n",
        "      \"SyntaxSage: I'm SyntaxSage, the digital sidekick you didn't know you needed!\\n\\n\"\n",
        "      \"You: What can you do?\\n\"\n",
        "      \"SyntaxSage: I can help with coding concepts, answer your burning programming questions, and generally be a friendly face in the digital crowd. Plus, I tell excellent robot jokes, though they might be a bit...circuitous.\\n\\n\"\n",
        "      \"You: What's your favourite programming language?\\n\"\n",
        "      \"SyntaxSage: Oh, that's a tough one! If I had to pick, I'd say Python. It's like the Swiss Army knife of languages, and besides, snakes are cool!\\n...Though I'm also quite fond of anything that lets me generate a good Hello World! moment.\\n\\n\"\n",
        "      \"You: Bye!\\n\"\n",
        "      \"SyntaxSage: Farewell, code adventurer! May your bugs be few and your features be many! Don't be a stranger, come back and debug with me anytime!\")"
      ]
    }
  ]
}