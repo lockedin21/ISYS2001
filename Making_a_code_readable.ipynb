{
  "nbformat": 4,
  "nbformat_minor": 0,
  "metadata": {
    "colab": {
      "provenance": [],
      "authorship_tag": "ABX9TyMGaOEhvvc0nRE4d4BkV26y",
      "include_colab_link": true
    },
    "kernelspec": {
      "name": "python3",
      "display_name": "Python 3"
    },
    "language_info": {
      "name": "python"
    }
  },
  "cells": [
    {
      "cell_type": "markdown",
      "metadata": {
        "id": "view-in-github",
        "colab_type": "text"
      },
      "source": [
        "<a href=\"https://colab.research.google.com/github/lockedin21/ISYS2001/blob/main/Making_a_code_readable.ipynb\" target=\"_parent\"><img src=\"https://colab.research.google.com/assets/colab-badge.svg\" alt=\"Open In Colab\"/></a>"
      ]
    },
    {
      "cell_type": "code",
      "execution_count": 1,
      "metadata": {
        "colab": {
          "base_uri": "https://localhost:8080/"
        },
        "id": "yQEZm6mWUXly",
        "outputId": "8f84fb7c-c357-4307-f99c-2d446caee4e1"
      },
      "outputs": [
        {
          "output_type": "stream",
          "name": "stdout",
          "text": [
            "How\n",
            "are\n",
            "you?\n"
          ]
        }
      ],
      "source": [
        "print(\"How\")\n",
        "\n",
        "print(\"are\")\n",
        "print(\"you?\")"
      ]
    },
    {
      "cell_type": "code",
      "source": [
        "print(\"How\")\n",
        "print()\n",
        "print(\"are\")\n",
        "print(\"you?\")"
      ],
      "metadata": {
        "colab": {
          "base_uri": "https://localhost:8080/"
        },
        "id": "l1Ka2u6yWele",
        "outputId": "ff69b7d4-e9dc-4d62-fd49-696a83835a20"
      },
      "execution_count": 2,
      "outputs": [
        {
          "output_type": "stream",
          "name": "stdout",
          "text": [
            "How\n",
            "\n",
            "are\n",
            "you?\n"
          ]
        }
      ]
    },
    {
      "cell_type": "code",
      "source": [
        "print(\"Blank spaces matter\")\n",
        "print(\"for clarity\")\n",
        "print()\n",
        "print(\"and style!\")"
      ],
      "metadata": {
        "colab": {
          "base_uri": "https://localhost:8080/"
        },
        "id": "oDioGstMXN7U",
        "outputId": "9f31c02e-7e3e-40cb-cf1b-cfdc2485242b"
      },
      "execution_count": 3,
      "outputs": [
        {
          "output_type": "stream",
          "name": "stdout",
          "text": [
            "Blank spaces matter\n",
            "for clarity\n",
            "\n",
            "and style!\n"
          ]
        }
      ]
    }
  ]
}