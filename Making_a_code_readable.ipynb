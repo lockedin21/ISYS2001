{
  "nbformat": 4,
  "nbformat_minor": 0,
  "metadata": {
    "colab": {
      "provenance": [],
      "authorship_tag": "ABX9TyOL1UmbZqCbRHTLNl+jBp2N",
      "include_colab_link": true
    },
    "kernelspec": {
      "name": "python3",
      "display_name": "Python 3"
    },
    "language_info": {
      "name": "python"
    }
  },
  "cells": [
    {
      "cell_type": "markdown",
      "metadata": {
        "id": "view-in-github",
        "colab_type": "text"
      },
      "source": [
        "<a href=\"https://colab.research.google.com/github/lockedin21/ISYS2001/blob/main/Making_a_code_readable.ipynb\" target=\"_parent\"><img src=\"https://colab.research.google.com/assets/colab-badge.svg\" alt=\"Open In Colab\"/></a>"
      ]
    },
    {
      "cell_type": "code",
      "execution_count": 1,
      "metadata": {
        "colab": {
          "base_uri": "https://localhost:8080/"
        },
        "id": "yQEZm6mWUXly",
        "outputId": "8f84fb7c-c357-4307-f99c-2d446caee4e1"
      },
      "outputs": [
        {
          "output_type": "stream",
          "name": "stdout",
          "text": [
            "How\n",
            "are\n",
            "you?\n"
          ]
        }
      ],
      "source": [
        "print(\"How\")\n",
        "\n",
        "print(\"are\")\n",
        "print(\"you?\")"
      ]
    },
    {
      "cell_type": "code",
      "source": [
        "print(\"How\")\n",
        "print()\n",
        "print(\"are\")\n",
        "print(\"you?\")"
      ],
      "metadata": {
        "colab": {
          "base_uri": "https://localhost:8080/"
        },
        "id": "l1Ka2u6yWele",
        "outputId": "ff69b7d4-e9dc-4d62-fd49-696a83835a20"
      },
      "execution_count": 2,
      "outputs": [
        {
          "output_type": "stream",
          "name": "stdout",
          "text": [
            "How\n",
            "\n",
            "are\n",
            "you?\n"
          ]
        }
      ]
    },
    {
      "cell_type": "code",
      "source": [
        "print(\"Blank spaces matter\")\n",
        "print(\"for clarity\")\n",
        "print()\n",
        "print(\"and style!\")"
      ],
      "metadata": {
        "colab": {
          "base_uri": "https://localhost:8080/"
        },
        "id": "oDioGstMXN7U",
        "outputId": "9f31c02e-7e3e-40cb-cf1b-cfdc2485242b"
      },
      "execution_count": 3,
      "outputs": [
        {
          "output_type": "stream",
          "name": "stdout",
          "text": [
            "Blank spaces matter\n",
            "for clarity\n",
            "\n",
            "and style!\n"
          ]
        }
      ]
    },
    {
      "cell_type": "code",
      "source": [
        "print(\"This is the first line.\\nThis is the second line.\")"
      ],
      "metadata": {
        "colab": {
          "base_uri": "https://localhost:8080/"
        },
        "id": "7JLoCNurc3OC",
        "outputId": "1cda1a7d-f98c-4eb1-b59d-4c2893d35fd9"
      },
      "execution_count": 4,
      "outputs": [
        {
          "output_type": "stream",
          "name": "stdout",
          "text": [
            "This is the first line.\n",
            "This is the second line.\n"
          ]
        }
      ]
    },
    {
      "cell_type": "code",
      "source": [
        "print('''My contact:\n",
        "Email: your_name@gmail.com\n",
        "Phone: +xx-1234-5678''')"
      ],
      "metadata": {
        "colab": {
          "base_uri": "https://localhost:8080/"
        },
        "id": "-8CCLjr1dIi7",
        "outputId": "edccb1da-db36-44df-bb04-69322376923c"
      },
      "execution_count": 5,
      "outputs": [
        {
          "output_type": "stream",
          "name": "stdout",
          "text": [
            "My contact:\n",
            "Email: your_name@gmail.com\n",
            "Phone: +xx-1234-5678\n"
          ]
        }
      ]
    },
    {
      "cell_type": "code",
      "source": [
        "print('''To-Do List:\n",
        "1. Complete Python exercise\n",
        "2. Review coding concepts\n",
        "3. Have a cuppa tea''')\n",
        ""
      ],
      "metadata": {
        "colab": {
          "base_uri": "https://localhost:8080/"
        },
        "id": "Y4pwnvFAdZbP",
        "outputId": "a22fbe40-d8ad-409d-80cb-3da4afe9dc59"
      },
      "execution_count": 6,
      "outputs": [
        {
          "output_type": "stream",
          "name": "stdout",
          "text": [
            "To-Do List:\n",
            "1. Complete Python exercise\n",
            "2. Review coding concepts\n",
            "3. Have a cuppa tea\n"
          ]
        }
      ]
    },
    {
      "cell_type": "code",
      "source": [
        "print('''A whisper soft, of coded grace,\\nWhere spaces rule, and lines embrace.\\nNo curly locks, but clean design,\\nPython's sweet logic, truly thine.''')"
      ],
      "metadata": {
        "colab": {
          "base_uri": "https://localhost:8080/"
        },
        "id": "wKWq1Fl9g_H1",
        "outputId": "b3e2d2df-b9e3-4312-bd7d-2f79232edebd"
      },
      "execution_count": 7,
      "outputs": [
        {
          "output_type": "stream",
          "name": "stdout",
          "text": [
            "A whisper soft, of coded grace,\n",
            "Where spaces rule, and lines embrace.\n",
            "No curly locks, but clean design,\n",
            "Python's sweet logic, truly thine.\n"
          ]
        }
      ]
    },
    {
      "cell_type": "code",
      "source": [
        "print('''Personal Profile:\n",
        "Name: Alice Smith''')\n",
        "print(\"Favourite Language: Python\\nHobby: Coding and bushwalking.\")\n"
      ],
      "metadata": {
        "colab": {
          "base_uri": "https://localhost:8080/"
        },
        "id": "NoG3e1PZTh_Q",
        "outputId": "e9569f25-215e-4a53-d054-7049ab9313ba"
      },
      "execution_count": 3,
      "outputs": [
        {
          "output_type": "stream",
          "name": "stdout",
          "text": [
            "Personal Profile:\n",
            "Name: Alice Smith\n",
            "Favourite Language: Python\n",
            "Hobby: Coding and bushwalking.\n"
          ]
        }
      ]
    }
  ]
}