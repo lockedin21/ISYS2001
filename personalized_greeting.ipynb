{
  "nbformat": 4,
  "nbformat_minor": 0,
  "metadata": {
    "colab": {
      "provenance": [],
      "authorship_tag": "ABX9TyMdz6tHzLVADDJmsplhPAia",
      "include_colab_link": true
    },
    "kernelspec": {
      "name": "python3",
      "display_name": "Python 3"
    },
    "language_info": {
      "name": "python"
    }
  },
  "cells": [
    {
      "cell_type": "markdown",
      "metadata": {
        "id": "view-in-github",
        "colab_type": "text"
      },
      "source": [
        "<a href=\"https://colab.research.google.com/github/lockedin21/ISYS2001/blob/main/personalized_greeting.ipynb\" target=\"_parent\"><img src=\"https://colab.research.google.com/assets/colab-badge.svg\" alt=\"Open In Colab\"/></a>"
      ]
    },
    {
      "cell_type": "code",
      "execution_count": 2,
      "metadata": {
        "colab": {
          "base_uri": "https://localhost:8080/"
        },
        "id": "Y072JR9taCVd",
        "outputId": "b7738c30-1fce-4f23-d897-38fe7310c11c"
      },
      "outputs": [
        {
          "output_type": "stream",
          "name": "stdout",
          "text": [
            "What is your name? SAHAV\n",
            "What is your favourite colour? Silver\n",
            "What is your favourite food? Burger\n",
            "Name: SAHAV\n",
            "Favourite Colour: Silver\n",
            "Favourite Food: Burger\n"
          ]
        }
      ],
      "source": [
        "# Collect basic user inputs\n",
        "user_name = input(\"What is your name? \")\n",
        "fav_colour = input(\"What is your favourite colour? \")\n",
        "fav_food = input(\"What is your favourite food? \")\n",
        "\n",
        "# Display the captured inputs\n",
        "print(\"Name:\", user_name)\n",
        "print(\"Favourite Colour:\", fav_colour)\n",
        "print(\"Favourite Food:\", fav_food)"
      ]
    },
    {
      "cell_type": "code",
      "source": [
        "# Output a summary message combining the inputs\n",
        "print(\"Hello, \" + user_name + \"! Your favourite colour is \" + fav_colour +\n",
        "      \" and you love \" + fav_food + \".\")"
      ],
      "metadata": {
        "colab": {
          "base_uri": "https://localhost:8080/"
        },
        "id": "P678vSrcb0i3",
        "outputId": "31baa8d4-c1db-490e-8cfb-1a79317612cc"
      },
      "execution_count": null,
      "outputs": [
        {
          "output_type": "stream",
          "name": "stdout",
          "text": [
            "Hello, SAHAV! Your favourite colour is Silver and you love Burger.\n"
          ]
        }
      ]
    }
  ]
}