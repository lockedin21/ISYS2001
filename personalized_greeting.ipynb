{
  "nbformat": 4,
  "nbformat_minor": 0,
  "metadata": {
    "colab": {
      "provenance": [],
      "authorship_tag": "ABX9TyOOOQgrjS0jxgvI8oFewe7R",
      "include_colab_link": true
    },
    "kernelspec": {
      "name": "python3",
      "display_name": "Python 3"
    },
    "language_info": {
      "name": "python"
    }
  },
  "cells": [
    {
      "cell_type": "markdown",
      "metadata": {
        "id": "view-in-github",
        "colab_type": "text"
      },
      "source": [
        "<a href=\"https://colab.research.google.com/github/lockedin21/ISYS2001/blob/main/personalized_greeting.ipynb\" target=\"_parent\"><img src=\"https://colab.research.google.com/assets/colab-badge.svg\" alt=\"Open In Colab\"/></a>"
      ]
    },
    {
      "cell_type": "code",
      "execution_count": 6,
      "metadata": {
        "colab": {
          "base_uri": "https://localhost:8080/"
        },
        "id": "Y072JR9taCVd",
        "outputId": "cb318b31-12cf-429d-dae0-2ed1dbbdef07"
      },
      "outputs": [
        {
          "output_type": "stream",
          "name": "stdout",
          "text": [
            "What is your name? SAHAV\n",
            "What is your favourite colour? SILVER\n",
            "What is your favourite food? BURGERS\n",
            "Name: SAHAV\n",
            "Favourite Colour: SILVER\n",
            "Favourite Food: BURGERS\n"
          ]
        }
      ],
      "source": [
        "\n",
        "user_name = input(\"What is your name? \")\n",
        "fav_colour = input(\"What is your favourite colour? \")\n",
        "fav_food = input(\"What is your favourite food? \")\n",
        "\n",
        "print(\"Name:\", user_name)\n",
        "print(\"Favourite Colour:\", fav_colour)\n",
        "print(\"Favourite Food:\", fav_food)"
      ]
    },
    {
      "cell_type": "code",
      "source": [
        "print(\"Hello, \" + user_name + \"! Your favourite colour is \" + fav_colour +\n",
        "      \" and you love \" + fav_food + \".\")"
      ],
      "metadata": {
        "colab": {
          "base_uri": "https://localhost:8080/"
        },
        "id": "yTC5idpIc1dQ",
        "outputId": "9a1212c7-b53d-4f89-8eec-a2b21873c80e"
      },
      "execution_count": 7,
      "outputs": [
        {
          "output_type": "stream",
          "name": "stdout",
          "text": [
            "Hello, SAHAV! Your favourite colour is SILVER and you love BURGERS.\n"
          ]
        }
      ]
    },
    {
      "cell_type": "code",
      "source": [
        "fav_hobby = input(\"Your favourtie hobby \")\n",
        "print(\"Hello, \" + user_name + \"! Your favourite colour is \" + fav_colour + \", you love \" + fav_food + \", and your favourite hobby is \" + fav_hobby + \".\")\n",
        "spirit_animal = input(\"Your spirit animal\")\n",
        "print(\"Interesting choice! I wonder why a\", spirit_animal, \"resonates with you.\")"
      ],
      "metadata": {
        "colab": {
          "base_uri": "https://localhost:8080/"
        },
        "id": "k41gv-84ecrr",
        "outputId": "dbb563ce-55d1-445c-c316-29f3b87e7d02"
      },
      "execution_count": 9,
      "outputs": [
        {
          "output_type": "stream",
          "name": "stdout",
          "text": [
            "Your favourtie hobby Playing video games\n",
            "Hello, SAHAV! Your favourite colour is SILVER, you love BURGERS, and your favourite hobby is Playing video games.\n",
            "Your spirit animalCat\n",
            "Interesting choice! I wonder why a Cat resonates with you.\n"
          ]
        }
      ]
    },
    {
      "cell_type": "code",
      "source": [
        "print(\"Your name in all caps is\", user_name.upper() + \"!\")"
      ],
      "metadata": {
        "colab": {
          "base_uri": "https://localhost:8080/"
        },
        "id": "iHx38bj_fm9R",
        "outputId": "3274e603-4225-46ef-87d2-d988f469fe55"
      },
      "execution_count": 11,
      "outputs": [
        {
          "output_type": "stream",
          "name": "stdout",
          "text": [
            "Your name in all caps is SAHAV!\n"
          ]
        }
      ]
    }
  ]
}